{
 "cells": [
  {
   "cell_type": "code",
   "execution_count": 2,
   "metadata": {},
   "outputs": [
    {
     "name": "stdout",
     "output_type": "stream",
     "text": [
      "pygame 2.1.2 (SDL 2.0.18, Python 3.8.12)\n",
      "Hello from the pygame community. https://www.pygame.org/contribute.html\n"
     ]
    }
   ],
   "source": [
    "import pygame\n",
    "import numpy as np\n",
    "import time\n",
    "    "
   ]
  },
  {
   "cell_type": "code",
   "execution_count": 3,
   "metadata": {},
   "outputs": [
    {
     "data": {
      "text/plain": [
       "<rect(0, 0, 400, 400)>"
      ]
     },
     "execution_count": 3,
     "metadata": {},
     "output_type": "execute_result"
    }
   ],
   "source": [
    "pygame.init()\n",
    "width, height = 400, 400 # tamaño de la pantalla \n",
    "bg = 25, 25, 25 # color de fondo\n",
    "screen  = pygame.display.set_mode((height, width)) # crea la pantalla\n",
    "screen.fill(bg) # pone el color de fondo"
   ]
  },
  {
   "cell_type": "code",
   "execution_count": 4,
   "metadata": {},
   "outputs": [],
   "source": [
    "# Tamaño de nuestra matriz\n",
    "nxC, nyC = 60, 60\n",
    "# Estado de las celdas. Viva = 1 / Muerta = 0\n",
    "gameState = np.zeros((nxC,  nyC))\n",
    "#dimensiones de cada celda individual\n",
    "dimCW = width / nxC\n",
    "dimCH = height / nyC"
   ]
  },
  {
   "cell_type": "code",
   "execution_count": 5,
   "metadata": {},
   "outputs": [],
   "source": [
    "# Oscilador.\n",
    "gameState[38, 20] = 1\n",
    "gameState[39, 20] = 1\n",
    "gameState[40, 20] = 1# Oscilador.\n",
    "gameState[38, 20] = 1\n",
    "gameState[39, 20] = 1\n",
    "gameState[40, 20] = 1\n",
    "# Runner 1\n",
    "gameState[10,5] = 1\n",
    "gameState[12,5] = 1\n",
    "gameState[11,6] = 1\n",
    "gameState[12,6] = 1\n",
    "gameState[11,7] = 1\n",
    "#Runner 2\n",
    "gameState[5,10] = 1\n",
    "gameState[5,12] = 1\n",
    "gameState[6,11] = 1\n",
    "gameState[6,12] = 1\n",
    "gameState[7,11] = 1\n",
    "#Box 1\n",
    "gameState[18,15] = 1\n",
    "gameState[17,16] = 1\n",
    "gameState[17,15] = 1\n",
    "gameState[18,16] = 1\n",
    "#Serpent 1\n",
    "gameState[30,20] = 1\n",
    "gameState[31,20] = 1\n",
    "gameState[32,20] = 1\n",
    "gameState[32,19] = 1\n",
    "gameState[33,19] = 1\n",
    "gameState[34,19] = 1"
   ]
  },
  {
   "cell_type": "code",
   "execution_count": 6,
   "metadata": {},
   "outputs": [],
   "source": [
    "pauseExect = False"
   ]
  },
  {
   "cell_type": "code",
   "execution_count": 7,
   "metadata": {},
   "outputs": [
    {
     "ename": "",
     "evalue": "",
     "output_type": "error",
     "traceback": [
      "\u001b[1;31mCanceled future for execute_request message before replies were done"
     ]
    },
    {
     "ename": "",
     "evalue": "",
     "output_type": "error",
     "traceback": [
      "\u001b[1;31mEl Kernel se bloqueó al ejecutar código en la celda actual o en una celda anterior. Revise el código de las celdas para identificar una posible causa del error. Haga clic <a href='https://aka.ms/vscodeJupyterKernelCrash'>aquí</a> para obtener más información. Vea el [registro] de Jupyter (command:jupyter.viewOutput) para obtener más detalles."
     ]
    }
   ],
   "source": [
    "# Bucle de ejecución\n",
    "while True:\n",
    "\n",
    "    # Copiamos la matriz del estado anterior\n",
    "    # #para representar la matriz en el nuevo estado\n",
    "    newGameState = np.copy(gameState)\n",
    "\n",
    "    # Ralentizamos la ejecución a 0.1 segundos\n",
    "    time.sleep(0.1)\n",
    "\n",
    "    # Limpiamos la pantalla\n",
    "    screen.fill(bg)\n",
    "\n",
    "    # Registramos eventos de teclado y ratón.\n",
    "    ev = pygame.event.get()\n",
    "\n",
    "    # Cada vez que identificamos un evento lo procesamos\n",
    "    for event in ev:\n",
    "        # Detectamos si se presiona una tecla.\n",
    "        if event.type == pygame.KEYDOWN:\n",
    "            pauseExect = not pauseExect\n",
    "\n",
    "        # Detectamos si se presiona el ratón.\n",
    "        mouseClick = pygame.mouse.get_pressed()\n",
    "\n",
    "        if sum(mouseClick) > 0:\n",
    "            posX, posY = pygame.mouse.get_pos()\n",
    "            celX, celY = int(np.floor(posX / dimCW)), int(np.floor(posY / dimCH))\n",
    "            newGameState[celX, celY] = 1\n",
    "\n",
    "    for y in range(0, nxC):\n",
    "        for x in range (0, nyC):\n",
    "\n",
    "            if not pauseExect:\n",
    "\n",
    "                # Calculamos el número de vecinos cercanos.\n",
    "                n_neigh =   gameState[(x - 1) % nxC, (y - 1)  % nyC] + \\\n",
    "                            gameState[(x)     % nxC, (y - 1)  % nyC] + \\\n",
    "                            gameState[(x + 1) % nxC, (y - 1)  % nyC] + \\\n",
    "                            gameState[(x - 1) % nxC, (y)      % nyC] + \\\n",
    "                            gameState[(x + 1) % nxC, (y)      % nyC] + \\\n",
    "                            gameState[(x - 1) % nxC, (y + 1)  % nyC] + \\\n",
    "                            gameState[(x)     % nxC, (y + 1)  % nyC] + \\\n",
    "                            gameState[(x + 1) % nxC, (y + 1)  % nyC]\n",
    "\n",
    "                # Regla #1 : Una celda muerta con exactamente 3 vecinas vivas, \"revive\".\n",
    "\n",
    "                if gameState[x, y] == 0 and n_neigh == 3:\n",
    "                    newGameState[x, y] = 1\n",
    "\n",
    "                # Regla #2 : Una celda viva con menos de 2 o más 3 vecinas vinas, \"muere\".\n",
    "\n",
    "                elif gameState[x, y] == 1 and (n_neigh < 2 or n_neigh > 3):\n",
    "                    newGameState[x, y] = 0\n",
    "\n",
    "            # Calculamos el polígono que forma la celda.\n",
    "            poly = [((x)   * dimCW, y * dimCH),\n",
    "                    ((x+1) * dimCW, y * dimCH),\n",
    "                    ((x+1) * dimCW, (y+1) * dimCH),\n",
    "                    ((x)   * dimCW, (y+1) * dimCH)]\n",
    "\n",
    "            # Si la celda está \"muerta\" pintamos un recuadro con borde gris\n",
    "            if newGameState[x, y] == 0:\n",
    "                pygame.draw.polygon(screen, (40, 40, 40), poly, 1)\n",
    "           # Si la celda está \"viva\" pintamos un recuadro relleno de color\n",
    "            else:\n",
    "                pygame.draw.polygon(screen, (200, 100, 100), poly, 0)\n",
    "\n",
    "    # Actualizamos el estado del juego.\n",
    "    gameState = np.copy(newGameState)\n",
    "\n",
    "    # Mostramos el resultado\n",
    "    pygame.display.flip()"
   ]
  }
 ],
 "metadata": {
  "kernelspec": {
   "display_name": "Python 3.8.12 ('xxx')",
   "language": "python",
   "name": "python3"
  },
  "language_info": {
   "codemirror_mode": {
    "name": "ipython",
    "version": 3
   },
   "file_extension": ".py",
   "mimetype": "text/x-python",
   "name": "python",
   "nbconvert_exporter": "python",
   "pygments_lexer": "ipython3",
   "version": "3.8.12"
  },
  "orig_nbformat": 4,
  "vscode": {
   "interpreter": {
    "hash": "fe1dd37900169d03b9edd7a3b6cd1f63b9d0742ea57c77cfeb3591f74e5e918c"
   }
  }
 },
 "nbformat": 4,
 "nbformat_minor": 2
}
